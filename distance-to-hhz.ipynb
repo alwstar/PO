{
 "cells": [
  {
   "cell_type": "code",
   "execution_count": 5,
   "metadata": {},
   "outputs": [
    {
     "name": "stdout",
     "output_type": "stream",
     "text": [
      "Die Distanzberechnung wurde erfolgreich abgeschlossen und die Ergebnisse wurden gespeichert.\n"
     ]
    }
   ],
   "source": [
    "import pandas as pd\n",
    "import numpy as np\n",
    "from math import radians, sin, cos, sqrt, atan2\n",
    "\n",
    "# Haversine function to calculate the distance between two lat/long points\n",
    "def haversine(lat1, lon1, lat2, lon2):\n",
    "    R = 6371.0  # Radius of the Earth in km\n",
    "    \n",
    "    lat1, lon1, lat2, lon2 = map(radians, [lat1, lon1, lat2, lon2])\n",
    "    dlat = lat2 - lat1\n",
    "    dlon = lon2 - lon1\n",
    "\n",
    "    a = sin(dlat / 2)**2 + cos(lat1) * cos(lat2) * sin(dlon / 2)**2\n",
    "    c = 2 * atan2(sqrt(a), sqrt(1 - a))\n",
    "\n",
    "    distance = R * c\n",
    "    return distance\n",
    "\n",
    "# Load PLZ data\n",
    "plz_data = pd.read_csv('PLZ.txt', sep='\\t')\n",
    "# Filter for necessary columns\n",
    "plz_data = plz_data[['plz', 'lon', 'lat']]\n",
    "# Ensure 'plz' column is treated as strings\n",
    "plz_data['plz'] = plz_data['plz'].astype(str)\n",
    "\n",
    "# Load Excel data\n",
    "data = pd.read_excel('data.xlsx')\n",
    "\n",
    "# Define the target PLZ and get its coordinates\n",
    "target_plz = 71034\n",
    "if str(target_plz) not in plz_data['plz'].values:\n",
    "    raise ValueError(f\"Target PLZ {target_plz} not found in the data.\")\n",
    "\n",
    "target_coords = plz_data[plz_data['plz'] == str(target_plz)]\n",
    "\n",
    "if not target_coords.empty:\n",
    "    target_lat, target_lon = target_coords.iloc[0]['lat'], target_coords.iloc[0]['lon']\n",
    "else:\n",
    "    raise ValueError(f\"Target PLZ {target_plz} not found in the data.\")\n",
    "\n",
    "# Function to get coordinates for a given PLZ\n",
    "def get_coords(plz):\n",
    "    result = plz_data[plz_data['plz'] == str(plz)]\n",
    "    if not result.empty:\n",
    "        return result.iloc[0]['lat'], result.iloc[0]['lon']\n",
    "    else:\n",
    "        return np.nan, np.nan\n",
    "\n",
    "# Calculate distance for each row in the data\n",
    "distances = []\n",
    "for plz in data['PLZ']:  # Assuming the correct column name is 'PLZ'\n",
    "    lat, lon = get_coords(plz)\n",
    "    if not np.isnan(lat) and not np.isnan(lon):\n",
    "        distance = haversine(target_lat, target_lon, lat, lon)\n",
    "    else:\n",
    "        distance = np.nan\n",
    "    distances.append(distance)\n",
    "\n",
    "# Add the distances to the data DataFrame\n",
    "data['Distance_to_71034'] = distances\n",
    "\n",
    "# Save the updated data to a new Excel file\n",
    "data.to_excel('data_with_distances.xlsx', index=False)\n",
    "\n",
    "print(\"Die Distanzberechnung wurde erfolgreich abgeschlossen und die Ergebnisse wurden gespeichert.\")"
   ]
  }
 ],
 "metadata": {
  "kernelspec": {
   "display_name": "py12-PO",
   "language": "python",
   "name": "python3"
  },
  "language_info": {
   "codemirror_mode": {
    "name": "ipython",
    "version": 3
   },
   "file_extension": ".py",
   "mimetype": "text/x-python",
   "name": "python",
   "nbconvert_exporter": "python",
   "pygments_lexer": "ipython3",
   "version": "3.12.6"
  }
 },
 "nbformat": 4,
 "nbformat_minor": 2
}
